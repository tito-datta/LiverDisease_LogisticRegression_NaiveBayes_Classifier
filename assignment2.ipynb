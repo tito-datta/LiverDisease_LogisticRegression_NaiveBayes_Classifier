{
 "cells": [
  {
   "cell_type": "code",
   "execution_count": 5,
   "source": [
    "import pandas as pd\r\n",
    "\r\n",
    "liver_df = pd.read_csv('Data/liver_disease_1.csv')\r\n",
    "\r\n",
    "print(f'The dataset can be described as \\n{liver_df.describe()}')"
   ],
   "outputs": [
    {
     "output_type": "stream",
     "name": "stdout",
     "text": [
      "The dataset can be described as \n",
      "              Age  Total_Bilirubin  Direct_Bilirubin  Alkaline_Phosphotase  \\\n",
      "count  583.000000       583.000000        583.000000            583.000000   \n",
      "mean    44.746141         3.298799          1.486106            290.576329   \n",
      "std     16.189833         6.209522          2.808498            242.937989   \n",
      "min      4.000000         0.400000          0.100000             63.000000   \n",
      "25%     33.000000         0.800000          0.200000            175.500000   \n",
      "50%     45.000000         1.000000          0.300000            208.000000   \n",
      "75%     58.000000         2.600000          1.300000            298.000000   \n",
      "max     90.000000        75.000000         19.700000           2110.000000   \n",
      "\n",
      "       Alamine_Aminotransferase  Aspartate_Aminotransferase  Total_Protiens  \\\n",
      "count                583.000000                  583.000000      583.000000   \n",
      "mean                  80.713551                  109.910806        6.483190   \n",
      "std                  182.620356                  288.918529        1.085451   \n",
      "min                   10.000000                   10.000000        2.700000   \n",
      "25%                   23.000000                   25.000000        5.800000   \n",
      "50%                   35.000000                   42.000000        6.600000   \n",
      "75%                   60.500000                   87.000000        7.200000   \n",
      "max                 2000.000000                 4929.000000        9.600000   \n",
      "\n",
      "          Albumin  Albumin_and_Globulin_Ratio  \n",
      "count  583.000000                  579.000000  \n",
      "mean     3.141852                    0.947064  \n",
      "std      0.795519                    0.319592  \n",
      "min      0.900000                    0.300000  \n",
      "25%      2.600000                    0.700000  \n",
      "50%      3.100000                    0.930000  \n",
      "75%      3.800000                    1.100000  \n",
      "max      5.500000                    2.800000  \n"
     ]
    }
   ],
   "metadata": {}
  }
 ],
 "metadata": {
  "orig_nbformat": 4,
  "language_info": {
   "name": "python",
   "version": "3.9.2",
   "mimetype": "text/x-python",
   "codemirror_mode": {
    "name": "ipython",
    "version": 3
   },
   "pygments_lexer": "ipython3",
   "nbconvert_exporter": "python",
   "file_extension": ".py"
  },
  "kernelspec": {
   "name": "python3",
   "display_name": "Python 3.9.2 64-bit ('.venv': venv)"
  },
  "interpreter": {
   "hash": "f8ec4984427f2b631bd2efd89648b48554aebdeb544a5e8057817c0e22a02b1c"
  }
 },
 "nbformat": 4,
 "nbformat_minor": 2
}